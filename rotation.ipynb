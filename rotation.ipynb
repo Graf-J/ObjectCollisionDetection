{
 "cells": [
  {
   "cell_type": "code",
   "execution_count": 1,
   "metadata": {},
   "outputs": [],
   "source": [
    "import numpy as np\n",
    "import matplotlib.pyplot as plt"
   ]
  },
  {
   "cell_type": "code",
   "execution_count": 2,
   "metadata": {},
   "outputs": [],
   "source": [
    "def plot_object(points: np.ndarray):\n",
    "    plt.hlines(y=0, xmin=-3, xmax=3, color='black')\n",
    "    plt.vlines(x=0, ymin=-3, ymax=3, color='black')\n",
    "    plt.scatter(points[0, :], points[1, :], c='black')\n",
    "\n",
    "    for i in range(points.shape[1]):\n",
    "        x1, y1 = points[:, i]\n",
    "        x2, y2 = points[:, (i+1) % points.shape[1]]\n",
    "        plt.plot([x1, x2], [y1, y2], c='r')    \n",
    "\n",
    "    plt.gca().set_aspect('equal', adjustable='box')\n",
    "    plt.show()"
   ]
  },
  {
   "cell_type": "code",
   "execution_count": 3,
   "metadata": {},
   "outputs": [
    {
     "data": {
      "text/plain": [
       "array([[0. , 1.5, 3. , 1.5],\n",
       "       [0. , 0.5, 0. , 2. ]])"
      ]
     },
     "execution_count": 3,
     "metadata": {},
     "output_type": "execute_result"
    }
   ],
   "source": [
    "p1 = np.array([0, 0])\n",
    "p2 = np.array([1.5, .5])\n",
    "p3 = np.array([3, 0])\n",
    "p4 = np.array([1.5, 2])\n",
    "\n",
    "points = np.vstack([p1, p2, p3, p4]).T\n",
    "points"
   ]
  },
  {
   "cell_type": "code",
   "execution_count": 4,
   "metadata": {},
   "outputs": [
    {
     "data": {
      "image/png": "[encoded data removed]",
      "text/plain": [
       "<Figure size 640x480 with 1 Axes>"
      ]
     },
     "metadata": {},
     "output_type": "display_data"
    }
   ],
   "source": [
    "plot_object(points)"
   ]
  },
  {
   "cell_type": "code",
   "execution_count": 5,
   "metadata": {},
   "outputs": [],
   "source": [
    "def to_homogenous_points(points: np.ndarray):\n",
    "    return np.vstack((points, np.ones((1, points.shape[1]))))"
   ]
  },
  {
   "cell_type": "code",
   "execution_count": 6,
   "metadata": {},
   "outputs": [],
   "source": [
    "def get_shift_matrix(x: float, y: float):\n",
    "    return np.array([[1, 0, x], [0, 1, y], [0, 0, 1]])"
   ]
  },
  {
   "cell_type": "code",
   "execution_count": 7,
   "metadata": {},
   "outputs": [],
   "source": [
    "def get_rotation_matrix(angle: float):\n",
    "    rad = np.deg2rad(angle)\n",
    "    return np.array([[np.cos(rad), -np.sin(rad), 0], [np.sin(rad), np.cos(rad), 0], [0, 0, 1]])"
   ]
  },
  {
   "cell_type": "code",
   "execution_count": 8,
   "metadata": {},
   "outputs": [],
   "source": [
    "def shift_points(x: float, y: float, points: np.ndarray):\n",
    "    M = get_shift_matrix(x, y)\n",
    "    return M @ points"
   ]
  },
  {
   "cell_type": "code",
   "execution_count": 9,
   "metadata": {},
   "outputs": [],
   "source": [
    "def rotate_points(angle: float, points: np.ndarray):\n",
    "    M = get_rotation_matrix(angle)\n",
    "    return M @ points"
   ]
  },
  {
   "cell_type": "code",
   "execution_count": 10,
   "metadata": {},
   "outputs": [],
   "source": [
    "def rotate_triangle(triangle_points: np.ndarray, angle: float):\n",
    "    x_mean, y_mean = points.mean(axis=1)\n",
    "\n",
    "    transformed_points = to_homogenous_points(triangle_points)\n",
    "    transformed_points = shift_points(x=-x_mean, y=- y_mean, points=transformed_points)\n",
    "    transformed_points = rotate_points(angle, transformed_points)\n",
    "    transformed_points = shift_points(x=x_mean, y= y_mean, points=transformed_points)\n",
    "\n",
    "    return transformed_points[0:2, :]"
   ]
  },
  {
   "cell_type": "code",
   "execution_count": 19,
   "metadata": {},
   "outputs": [
    {
     "data": {
      "image/png": "[encoded data removed]",
      "text/plain": [
       "<Figure size 640x480 with 1 Axes>"
      ]
     },
     "metadata": {},
     "output_type": "display_data"
    }
   ],
   "source": [
    "rotated_triangle_points = rotate_triangle(points, 0)\n",
    "plot_object(rotated_triangle_points)"
   ]
  }
 ],
 "metadata": {
  "kernelspec": {
   "display_name": "Python 3",
   "language": "python",
   "name": "python3"
  },
  "language_info": {
   "codemirror_mode": {
    "name": "ipython",
    "version": 3
   },
   "file_extension": ".py",
   "mimetype": "text/x-python",
   "name": "python",
   "nbconvert_exporter": "python",
   "pygments_lexer": "ipython3",
   "version": "3.11.4"
  }
 },
 "nbformat": 4,
 "nbformat_minor": 2
}
